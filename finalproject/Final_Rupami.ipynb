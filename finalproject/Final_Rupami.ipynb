{
 "cells": [
  {
   "cell_type": "markdown",
   "metadata": {},
   "source": [
    "# HDS 5210 Final Project:\n",
    "                  "
   ]
  },
  {
   "cell_type": "markdown",
   "metadata": {},
   "source": [
    "   ## ANALYSIS OF STROKE IN PATIENTS GLOBALLY"
   ]
  },
  {
   "cell_type": "markdown",
   "metadata": {},
   "source": [
    "### RUPAMI MANDALI"
   ]
  },
  {
   "cell_type": "markdown",
   "metadata": {},
   "source": [
    "The World Health Organization (WHO) and the Heart Disease Predictions with Shapley are the two data sources used in this study to analyze data on strokes globally. Although the World Health Organization is constantly operated, the Heart Disease Predictions with Shapley is one of the prediction data where the data is calculated by the Shapley values. The current effort thus focuses on the global causes of stroke"
   ]
  },
  {
   "cell_type": "markdown",
   "metadata": {},
   "source": [
    "### Below are the links for the datasets:"
   ]
  },
  {
   "cell_type": "markdown",
   "metadata": {},
   "source": [
    "World Health Organization:"
   ]
  },
  {
   "cell_type": "markdown",
   "metadata": {},
   "source": [
    "Source:https://www.kaggle.com/datasets/fedesoriano/stroke-prediction-dataset\n"
   ]
  },
  {
   "cell_type": "markdown",
   "metadata": {},
   "source": [
    "Heart Disease Predictions with Shapley:"
   ]
  },
  {
   "cell_type": "markdown",
   "metadata": {},
   "source": [
    "Source:https://www.kaggle.com/code/kellibelcher/heart-disease-predictions-with-shapley/notebook#2-|-Data-Overview\n"
   ]
  },
  {
   "cell_type": "markdown",
   "metadata": {},
   "source": [
    "### OBJECTIVES OF THE DATASETS:"
   ]
  },
  {
   "cell_type": "markdown",
   "metadata": {},
   "source": [
    "According to the World Health Organization (WHO), stroke is the second most major cause of death worldwide, accounting for around 11% of all fatalities.\n",
    "Based on input characteristics including gender, age, numerous illnesses, and smoking status, this dataset is used to determine whether a patient is likely to get a stroke. Each row of the data contains pertinent patient information."
   ]
  },
  {
   "cell_type": "markdown",
   "metadata": {},
   "source": [
    "Shapley values were utilized to create a Gradient Boosting model that can predict the likelihood of a heart disease diagnosis with an Area Under the Curve of 0.927 in the detection of cardiovascular disease. We also discovered important cardiac disease signs and their impact on foretelling a favorable diagnosis using Shapley values. The interaction effects between a patient's medical data, particularly in characteristics that included a patient's age, cholesterol, blood pressure, ST Slope, and kind of chest pain, were among of the model's most crucial predictions. Gradient Boosting, the top-performing model, had an overall F1-Score of 90% and an accuracy of 89%, making it useful for the early identification and diagnosis of heart disease."
   ]
  },
  {
   "cell_type": "markdown",
   "metadata": {},
   "source": [
    "Trans between two related data sources is frequently necessary since no individual dataset has all the information that is considered necessary. Empirical investigation, database administration, and corroboration will be the main focuses of the present project. In order to assess if WHO collects data that is equivalent to Heart Disease Predictions with Shapley, a longitudinal in-person survey, I will also analyze data from both sources. I will choose variables from the present project that can be compared and harmonized across the two data sources."
   ]
  },
  {
   "cell_type": "markdown",
   "metadata": {},
   "source": [
    "This comparision between the two data sets helps for the future cause World Health Organization is the continous form of data collection. The Shapley values are mainly introduced only for the analysis of the cardiovascular diseases focuses on the heart strokes. "
   ]
  },
  {
   "cell_type": "markdown",
   "metadata": {},
   "source": [
    "### VARIABLES CONSIDERED ARE:"
   ]
  },
  {
   "cell_type": "markdown",
   "metadata": {},
   "source": [
    "Below are the set of variables collected from both the data sets-"
   ]
  },
  {
   "cell_type": "markdown",
   "metadata": {},
   "source": [
    "* ID\n",
    "* AGE\n",
    "* SEX\n",
    "* CHEST PAIN TYPE\n",
    "* HYPERTENSION\n",
    "* HEART_DISEASE\n",
    "* RESTING BP\n",
    "* EXERCISE ANGINA\n",
    "* WORK_TYPE\n",
    "* RESIDENCE_TYPE\n",
    "* MARRIAGE\n",
    "* GLOCOSE_LEVEL"
   ]
  },
  {
   "cell_type": "markdown",
   "metadata": {},
   "source": [
    "### CREATING DATASET-"
   ]
  },
  {
   "cell_type": "code",
   "execution_count": 1,
   "metadata": {},
   "outputs": [],
   "source": [
    "# import pandas\n",
    "import pandas as pd"
   ]
  },
  {
   "cell_type": "code",
   "execution_count": 2,
   "metadata": {},
   "outputs": [],
   "source": [
    "# reading csv file\n",
    "data = pd.read_csv('healthcare-dataset-stroke-data.csv')"
   ]
  },
  {
   "cell_type": "code",
   "execution_count": 3,
   "metadata": {},
   "outputs": [],
   "source": [
    "# reading other csv file\n",
    "data = pd.read_csv('heart.csv')"
   ]
  },
  {
   "cell_type": "code",
   "execution_count": 4,
   "metadata": {},
   "outputs": [],
   "source": [
    "# Create a function to subset columns given a list of variables\n",
    "def column_select (dataframe, l):\n",
    "    '''list, dataframe, and dataframe\n",
    "A dataframe and a list are the two parameters this function accepts. Only columns matching the input are included in the dataframe that is returned.\n",
    "\n",
    "of the supplied list. \n",
    "    '''\n",
    "    smalldata = dataframe[l]\n",
    "    return smalldata   "
   ]
  },
  {
   "cell_type": "code",
   "execution_count": 5,
   "metadata": {},
   "outputs": [],
   "source": [
    "# collecting the variables of interest from file heart disease predictions with shapley\n",
    "heartdata = column_select(data, ['Age','Sex',\n",
    "                              'ChestPainType','RestingBP',\n",
    "                              'Cholesterol','FastingBS',\n",
    "                              'RestingECG','MaxHR',\n",
    "                              'ExerciseAngina','Oldpeak',\n",
    "                              'ST_Slope','HeartDisease' ])\n",
    "                     \n"
   ]
  },
  {
   "cell_type": "markdown",
   "metadata": {},
   "source": []
  },
  {
   "cell_type": "markdown",
   "metadata": {},
   "source": []
  },
  {
   "cell_type": "code",
   "execution_count": 6,
   "metadata": {},
   "outputs": [
    {
     "data": {
      "text/plain": [
       "<bound method NDFrame.head of      Age Sex ChestPainType  RestingBP  Cholesterol  FastingBS RestingECG  \\\n",
       "0     40   M           ATA        140          289          0     Normal   \n",
       "1     49   F           NAP        160          180          0     Normal   \n",
       "2     37   M           ATA        130          283          0         ST   \n",
       "3     48   F           ASY        138          214          0     Normal   \n",
       "4     54   M           NAP        150          195          0     Normal   \n",
       "..   ...  ..           ...        ...          ...        ...        ...   \n",
       "913   45   M            TA        110          264          0     Normal   \n",
       "914   68   M           ASY        144          193          1     Normal   \n",
       "915   57   M           ASY        130          131          0     Normal   \n",
       "916   57   F           ATA        130          236          0        LVH   \n",
       "917   38   M           NAP        138          175          0     Normal   \n",
       "\n",
       "     MaxHR ExerciseAngina  Oldpeak ST_Slope  HeartDisease  \n",
       "0      172              N      0.0       Up             0  \n",
       "1      156              N      1.0     Flat             1  \n",
       "2       98              N      0.0       Up             0  \n",
       "3      108              Y      1.5     Flat             1  \n",
       "4      122              N      0.0       Up             0  \n",
       "..     ...            ...      ...      ...           ...  \n",
       "913    132              N      1.2     Flat             1  \n",
       "914    141              N      3.4     Flat             1  \n",
       "915    115              Y      1.2     Flat             1  \n",
       "916    174              N      0.0     Flat             1  \n",
       "917    173              N      0.0       Up             0  \n",
       "\n",
       "[918 rows x 12 columns]>"
      ]
     },
     "execution_count": 6,
     "metadata": {},
     "output_type": "execute_result"
    }
   ],
   "source": [
    "heartdata.head"
   ]
  },
  {
   "cell_type": "code",
   "execution_count": 7,
   "metadata": {},
   "outputs": [],
   "source": [
    "# Create a function to subset columns given a list of variables\n",
    "def column_select (dataframe, l):\n",
    "    '''list, dataframe, and dataframe\n",
    "A dataframe and a list are the two parameters this function accepts. Only columns matching the input are included in the dataframe that is returned.\n",
    "\n",
    "of the supplied list. \n",
    "    '''\n",
    "    smalldata = dataframe[l]\n",
    "    return smalldata   "
   ]
  },
  {
   "cell_type": "code",
   "execution_count": 8,
   "metadata": {},
   "outputs": [],
   "source": [
    "# reading csv file\n",
    "data = pd.read_csv('healthcare-dataset-stroke-data.csv')"
   ]
  },
  {
   "cell_type": "code",
   "execution_count": 9,
   "metadata": {},
   "outputs": [],
   "source": [
    " #collecting the variables of interest from file healthcare dataset stroke data\n",
    "healthcaredata = column_select(data,['id','gender',\n",
    "                                      'age','hypertension',\n",
    "                                      'heart_disease','ever_married',\n",
    "                                      'work_type','Residence_type',\n",
    "                                      'avg_glucose_level','bmi',\n",
    "                                      'smoking_status','stroke'])\n",
    "    \n",
    "  "
   ]
  },
  {
   "cell_type": "code",
   "execution_count": 10,
   "metadata": {},
   "outputs": [
    {
     "data": {
      "text/plain": [
       "<bound method NDFrame.head of          id  gender   age  hypertension  heart_disease ever_married  \\\n",
       "0      9046    Male  67.0             0              1          Yes   \n",
       "1     51676  Female  61.0             0              0          Yes   \n",
       "2     31112    Male  80.0             0              1          Yes   \n",
       "3     60182  Female  49.0             0              0          Yes   \n",
       "4      1665  Female  79.0             1              0          Yes   \n",
       "...     ...     ...   ...           ...            ...          ...   \n",
       "5105  18234  Female  80.0             1              0          Yes   \n",
       "5106  44873  Female  81.0             0              0          Yes   \n",
       "5107  19723  Female  35.0             0              0          Yes   \n",
       "5108  37544    Male  51.0             0              0          Yes   \n",
       "5109  44679  Female  44.0             0              0          Yes   \n",
       "\n",
       "          work_type Residence_type  avg_glucose_level   bmi   smoking_status  \\\n",
       "0           Private          Urban             228.69  36.6  formerly smoked   \n",
       "1     Self-employed          Rural             202.21   NaN     never smoked   \n",
       "2           Private          Rural             105.92  32.5     never smoked   \n",
       "3           Private          Urban             171.23  34.4           smokes   \n",
       "4     Self-employed          Rural             174.12  24.0     never smoked   \n",
       "...             ...            ...                ...   ...              ...   \n",
       "5105        Private          Urban              83.75   NaN     never smoked   \n",
       "5106  Self-employed          Urban             125.20  40.0     never smoked   \n",
       "5107  Self-employed          Rural              82.99  30.6     never smoked   \n",
       "5108        Private          Rural             166.29  25.6  formerly smoked   \n",
       "5109       Govt_job          Urban              85.28  26.2          Unknown   \n",
       "\n",
       "      stroke  \n",
       "0          1  \n",
       "1          1  \n",
       "2          1  \n",
       "3          1  \n",
       "4          1  \n",
       "...      ...  \n",
       "5105       0  \n",
       "5106       0  \n",
       "5107       0  \n",
       "5108       0  \n",
       "5109       0  \n",
       "\n",
       "[5110 rows x 12 columns]>"
      ]
     },
     "execution_count": 10,
     "metadata": {},
     "output_type": "execute_result"
    }
   ],
   "source": [
    "healthcaredata.head"
   ]
  },
  {
   "cell_type": "code",
   "execution_count": 11,
   "metadata": {},
   "outputs": [
    {
     "data": {
      "text/plain": [
       "id                     int64\n",
       "gender                object\n",
       "age                  float64\n",
       "hypertension           int64\n",
       "heart_disease          int64\n",
       "ever_married          object\n",
       "work_type             object\n",
       "Residence_type        object\n",
       "avg_glucose_level    float64\n",
       "bmi                  float64\n",
       "smoking_status        object\n",
       "stroke                 int64\n",
       "dtype: object"
      ]
     },
     "execution_count": 11,
     "metadata": {},
     "output_type": "execute_result"
    }
   ],
   "source": [
    "healthcaredata.dtypes"
   ]
  },
  {
   "cell_type": "markdown",
   "metadata": {},
   "source": [
    "Basically the two datasets of World Health Organization and Heart Disease predictions with Shapley contain the common column called age,sex and other similar columns so I want to compare the two data sets according to the gender  where which data set shows perfect analysis of heart disease"
   ]
  },
  {
   "cell_type": "code",
   "execution_count": 12,
   "metadata": {},
   "outputs": [
    {
     "data": {
      "text/plain": [
       "120    132\n",
       "130    118\n",
       "140    107\n",
       "110     58\n",
       "150     55\n",
       "      ... \n",
       "113      1\n",
       "164      1\n",
       "117      1\n",
       "127      1\n",
       "0        1\n",
       "Name: RestingBP, Length: 67, dtype: int64"
      ]
     },
     "execution_count": 12,
     "metadata": {},
     "output_type": "execute_result"
    }
   ],
   "source": [
    "# Create variables in Heart Disease predictions with Shapley data for RestingBP and Cholesterol fracture to harmonize with World Health Organization\n",
    "# View the unique values\n",
    "heartdata['RestingBP'].value_counts()"
   ]
  },
  {
   "cell_type": "code",
   "execution_count": 13,
   "metadata": {},
   "outputs": [
    {
     "data": {
      "text/plain": [
       "0      172\n",
       "254     11\n",
       "223     10\n",
       "220     10\n",
       "230      9\n",
       "      ... \n",
       "355      1\n",
       "354      1\n",
       "353      1\n",
       "349      1\n",
       "603      1\n",
       "Name: Cholesterol, Length: 222, dtype: int64"
      ]
     },
     "execution_count": 13,
     "metadata": {},
     "output_type": "execute_result"
    }
   ],
   "source": [
    "heartdata['Cholesterol'].value_counts()"
   ]
  },
  {
   "cell_type": "code",
   "execution_count": 14,
   "metadata": {},
   "outputs": [
    {
     "data": {
      "text/plain": [
       "0      140\n",
       "1      160\n",
       "2      130\n",
       "3      138\n",
       "4      150\n",
       "      ... \n",
       "913    110\n",
       "914    144\n",
       "915    130\n",
       "916    130\n",
       "917    138\n",
       "Name: RestingBP, Length: 918, dtype: int64"
      ]
     },
     "execution_count": 14,
     "metadata": {},
     "output_type": "execute_result"
    }
   ],
   "source": [
    "heartdata['RestingBP']"
   ]
  },
  {
   "cell_type": "code",
   "execution_count": 15,
   "metadata": {},
   "outputs": [
    {
     "data": {
      "text/plain": [
       "0      289\n",
       "1      180\n",
       "2      283\n",
       "3      214\n",
       "4      195\n",
       "      ... \n",
       "913    264\n",
       "914    193\n",
       "915    131\n",
       "916    236\n",
       "917    175\n",
       "Name: Cholesterol, Length: 918, dtype: int64"
      ]
     },
     "execution_count": 15,
     "metadata": {},
     "output_type": "execute_result"
    }
   ],
   "source": [
    "heartdata['Cholesterol']"
   ]
  },
  {
   "cell_type": "markdown",
   "metadata": {},
   "source": [
    "### Data Recoding With Classification model"
   ]
  },
  {
   "cell_type": "markdown",
   "metadata": {},
   "source": [
    "Based on a cross-examination of the available codebooks, variables were harmonized. Using the provided codebooks, variables were modified and values were compiled to improve readability."
   ]
  },
  {
   "cell_type": "code",
   "execution_count": 16,
   "metadata": {},
   "outputs": [
    {
     "data": {
      "text/plain": [
       "Index(['Age', 'Sex', 'ChestPainType', 'RestingBP', 'Cholesterol', 'FastingBS',\n",
       "       'RestingECG', 'MaxHR', 'ExerciseAngina', 'Oldpeak', 'ST_Slope',\n",
       "       'HeartDisease'],\n",
       "      dtype='object')"
      ]
     },
     "execution_count": 16,
     "metadata": {},
     "output_type": "execute_result"
    }
   ],
   "source": [
    "# View the columns for Heart disease prediction with shapley's data\n",
    "heartdata.columns"
   ]
  },
  {
   "cell_type": "code",
   "execution_count": 17,
   "metadata": {},
   "outputs": [],
   "source": [
    "# Rename variables in Heartdisease prediction with shapley's data to match the common definitions\n",
    "heartdata = heartdata.rename(columns={'Sex': 'Gender','ChestPainType': 'ChestPain','RestingBP':'BP',\n",
    "                                     'FastingBS':'BloodSugarLevel','RestingECG':'ECG','MaxHR': 'HeartRate',\n",
    "                                     'ExerciseAngina': 'Angina','HeartDisease': 'Stroke'})"
   ]
  },
  {
   "cell_type": "code",
   "execution_count": 18,
   "metadata": {},
   "outputs": [],
   "source": [
    "# Recode the ECG variable\n",
    "heartdata['ECG'] = heartdata['ECG'].map({'Normal': 'Excellent',\n",
    "                                    'ST': 'Fair',\n",
    "                                    'LVH': 'Average'})"
   ]
  },
  {
   "cell_type": "code",
   "execution_count": 19,
   "metadata": {},
   "outputs": [
    {
     "data": {
      "text/plain": [
       "Excellent    552\n",
       "Average      188\n",
       "Fair         178\n",
       "Name: ECG, dtype: int64"
      ]
     },
     "execution_count": 19,
     "metadata": {},
     "output_type": "execute_result"
    }
   ],
   "source": [
    "heartdata['ECG'].value_counts()"
   ]
  },
  {
   "cell_type": "code",
   "execution_count": 101,
   "metadata": {},
   "outputs": [
    {
     "ename": "SyntaxError",
     "evalue": "invalid syntax (<ipython-input-101-efcbc3731aeb>, line 5)",
     "output_type": "error",
     "traceback": [
      "\u001b[0;36m  File \u001b[0;32m\"<ipython-input-101-efcbc3731aeb>\"\u001b[0;36m, line \u001b[0;32m5\u001b[0m\n\u001b[0;31m    heartdata.loc[heartdata['ChestPain'] == 'TA', 'ChestPain'] = 'uncontrolled'.\u001b[0m\n\u001b[0m                                                                                ^\u001b[0m\n\u001b[0;31mSyntaxError\u001b[0m\u001b[0;31m:\u001b[0m invalid syntax\n"
     ]
    }
   ],
   "source": [
    "# Recode the ChestPain variable\n",
    "heartdata.loc[heartdata['ChestPain'] == 'ATA', 'ChestPain'] = 'controllable',\n",
    "heartdata.loc[heartdata['ChestPain'] == 'NAP', 'ChestPain'] = 'can be controllable',\n",
    "heartdata.loc[heartdata['ChestPain'] == 'ASY', 'ChestPain'] = 'controlled',\n",
    "heartdata.loc[heartdata['ChestPain'] == 'TA', 'ChestPain'] = 'uncontrolled'.\n"
   ]
  },
  {
   "cell_type": "code",
   "execution_count": 21,
   "metadata": {},
   "outputs": [
    {
     "data": {
      "text/plain": [
       "ASY    496\n",
       "NAP    203\n",
       "ATA    173\n",
       "TA      46\n",
       "Name: ChestPain, dtype: int64"
      ]
     },
     "execution_count": 21,
     "metadata": {},
     "output_type": "execute_result"
    }
   ],
   "source": [
    "heartdata['ChestPain'].value_counts()"
   ]
  },
  {
   "cell_type": "code",
   "execution_count": 22,
   "metadata": {},
   "outputs": [],
   "source": [
    "# Recode the BloodSugarLevel variables\n",
    "heartdata['BloodSugarLevel'] = heartdata['BloodSugarLevel'].map({'0': 'dead',\n",
    "                                       '1': 'Increased' })\n"
   ]
  },
  {
   "cell_type": "code",
   "execution_count": 23,
   "metadata": {},
   "outputs": [
    {
     "data": {
      "text/plain": [
       "Series([], Name: BloodSugarLevel, dtype: int64)"
      ]
     },
     "execution_count": 23,
     "metadata": {},
     "output_type": "execute_result"
    }
   ],
   "source": [
    "heartdata['BloodSugarLevel'].value_counts()"
   ]
  },
  {
   "cell_type": "code",
   "execution_count": 24,
   "metadata": {},
   "outputs": [],
   "source": [
    "# Recode the HeartRate variables\n",
    "heartdata['HeartRate'] = heartdata['HeartRate'].map({'98': 'Normal',\n",
    "                                       '108': 'Increased',\n",
    "                                       '115': 'Increased',\n",
    "                                       '122': 'faster beat',\n",
    "                                       '132': 'faster beat',\n",
    "                                       '141': 'more faster beats',\n",
    "                                       '156': 'max beats',\n",
    "                                       '172': 'max beats',\n",
    "                                       '173': 'max beats',\n",
    "                                       '174': 'risk'})"
   ]
  },
  {
   "cell_type": "code",
   "execution_count": 25,
   "metadata": {},
   "outputs": [
    {
     "data": {
      "text/plain": [
       "Series([], Name: HeartRate, dtype: int64)"
      ]
     },
     "execution_count": 25,
     "metadata": {},
     "output_type": "execute_result"
    }
   ],
   "source": [
    "heartdata['HeartRate'].value_counts()"
   ]
  },
  {
   "cell_type": "code",
   "execution_count": 26,
   "metadata": {},
   "outputs": [],
   "source": [
    "# Recode the Angina variables\n",
    "heartdata['Angina'] = heartdata['Angina'].map({'N': 'No',\n",
    "                                       'Y': 'Yes'})"
   ]
  },
  {
   "cell_type": "code",
   "execution_count": 27,
   "metadata": {},
   "outputs": [
    {
     "data": {
      "text/plain": [
       "No     547\n",
       "Yes    371\n",
       "Name: Angina, dtype: int64"
      ]
     },
     "execution_count": 27,
     "metadata": {},
     "output_type": "execute_result"
    }
   ],
   "source": [
    "heartdata['Angina'].value_counts()"
   ]
  },
  {
   "cell_type": "code",
   "execution_count": null,
   "metadata": {},
   "outputs": [],
   "source": [
    "# Recode the Stroke variables\n",
    "heartdata['Stroke'] = heartdata['Stroke'].map ({'0': 'No',\n",
    "                                       '1': 'Yes'})"
   ]
  },
  {
   "cell_type": "code",
   "execution_count": 29,
   "metadata": {},
   "outputs": [
    {
     "data": {
      "text/plain": [
       "Series([], Name: Stroke, dtype: int64)"
      ]
     },
     "execution_count": 29,
     "metadata": {},
     "output_type": "execute_result"
    }
   ],
   "source": [
    "heartdata['Stroke'].value_counts()"
   ]
  },
  {
   "cell_type": "code",
   "execution_count": 30,
   "metadata": {},
   "outputs": [],
   "source": [
    "# Recode the Gender variables\n",
    "heartdata['Gender']= heartdata['Gender'].map({'M':'Male',\n",
    "                                             'F': 'Female'})"
   ]
  },
  {
   "cell_type": "code",
   "execution_count": 31,
   "metadata": {},
   "outputs": [
    {
     "data": {
      "text/plain": [
       "Male      725\n",
       "Female    193\n",
       "Name: Gender, dtype: int64"
      ]
     },
     "execution_count": 31,
     "metadata": {},
     "output_type": "execute_result"
    }
   ],
   "source": [
    "heartdata['Gender'].value_counts()"
   ]
  },
  {
   "cell_type": "markdown",
   "metadata": {},
   "source": [
    "### Recoding the Healthcare dataset stroke data"
   ]
  },
  {
   "cell_type": "code",
   "execution_count": 32,
   "metadata": {},
   "outputs": [
    {
     "data": {
      "text/plain": [
       "Index(['id', 'gender', 'age', 'hypertension', 'heart_disease', 'ever_married',\n",
       "       'work_type', 'Residence_type', 'avg_glucose_level', 'bmi',\n",
       "       'smoking_status', 'stroke'],\n",
       "      dtype='object')"
      ]
     },
     "execution_count": 32,
     "metadata": {},
     "output_type": "execute_result"
    }
   ],
   "source": [
    "# View the columns for Healthcare dataset stroke data\n",
    "healthcaredata.columns"
   ]
  },
  {
   "cell_type": "code",
   "execution_count": 33,
   "metadata": {},
   "outputs": [],
   "source": [
    "# Rename variables in Healthcare dataset stroke data to match the common definitions\n",
    "healthcaredata = healthcaredata.rename(columns={'ever_married':'Marital_status','work_type':'Employment',\n",
    "                                                'Residence_type':'Locality','avg_glucose_level':'BloodSugarLevel',\n",
    "                                                'smoking_status':'Smoke_check','hypertension':'Angina'})"
   ]
  },
  {
   "cell_type": "code",
   "execution_count": 34,
   "metadata": {},
   "outputs": [],
   "source": [
    "#Recode the Marital_status variables\n",
    "healthcaredata['Marital_status']=healthcaredata['Marital_status'].map({'Yes':'Married',\n",
    "                                                                      'No':'Unmarried'})"
   ]
  },
  {
   "cell_type": "code",
   "execution_count": 35,
   "metadata": {},
   "outputs": [
    {
     "data": {
      "text/plain": [
       "Married      3353\n",
       "Unmarried    1757\n",
       "Name: Marital_status, dtype: int64"
      ]
     },
     "execution_count": 35,
     "metadata": {},
     "output_type": "execute_result"
    }
   ],
   "source": [
    "healthcaredata['Marital_status'].value_counts()"
   ]
  },
  {
   "cell_type": "code",
   "execution_count": 36,
   "metadata": {},
   "outputs": [],
   "source": [
    "#Recode the Employment variables\n",
    "healthcaredata['Employment']=healthcaredata['Employment'].map({'Private':'Priv',\n",
    "                                                              'Self-employed': 'Own_business',\n",
    "                                                               'Govt_job': 'Govt'\n",
    "                                                              })"
   ]
  },
  {
   "cell_type": "code",
   "execution_count": 37,
   "metadata": {},
   "outputs": [
    {
     "data": {
      "text/plain": [
       "Priv            2925\n",
       "Own_business     819\n",
       "Govt             657\n",
       "Name: Employment, dtype: int64"
      ]
     },
     "execution_count": 37,
     "metadata": {},
     "output_type": "execute_result"
    }
   ],
   "source": [
    "healthcaredata['Employment'].value_counts()"
   ]
  },
  {
   "cell_type": "code",
   "execution_count": 38,
   "metadata": {},
   "outputs": [],
   "source": [
    "#Recode the Locality variables\n",
    "healthcaredata['Locality']=healthcaredata['Locality'].map({'Urban':'Town',\n",
    "                                                          'Rural':'Countryside'})"
   ]
  },
  {
   "cell_type": "code",
   "execution_count": 39,
   "metadata": {},
   "outputs": [
    {
     "data": {
      "text/plain": [
       "Town           2596\n",
       "Countryside    2514\n",
       "Name: Locality, dtype: int64"
      ]
     },
     "execution_count": 39,
     "metadata": {},
     "output_type": "execute_result"
    }
   ],
   "source": [
    "healthcaredata['Locality'].value_counts()"
   ]
  },
  {
   "cell_type": "code",
   "execution_count": 40,
   "metadata": {},
   "outputs": [],
   "source": [
    "#Recode the BloodSugarLevel variables\n",
    "healthcaredata['BloodSugarLevel']=healthcaredata['BloodSugarLevel'].map({'82.99':'Normal',\n",
    "                                                                        '83.75':'Normal',\n",
    "                                                                        '85.28':'Normal',\n",
    "                                                                        '105.92':'Normal',\n",
    "                                                                        '125.20':'Normal',\n",
    "                                                                        '166.29':'Moderate',\n",
    "                                                                        '171.23':'Quite a bit',\n",
    "                                                                        '174.12':'Max',\n",
    "                                                                        '202.21':'Max',\n",
    "                                                                        '228.69':'Extreme'})"
   ]
  },
  {
   "cell_type": "code",
   "execution_count": 41,
   "metadata": {},
   "outputs": [
    {
     "data": {
      "text/plain": [
       "Series([], Name: BloodSugarLevel, dtype: int64)"
      ]
     },
     "execution_count": 41,
     "metadata": {},
     "output_type": "execute_result"
    }
   ],
   "source": [
    "healthcaredata['BloodSugarLevel'].value_counts()"
   ]
  },
  {
   "cell_type": "code",
   "execution_count": 42,
   "metadata": {},
   "outputs": [],
   "source": [
    "#Recode the Smoke_check variables\n",
    "healthcaredata['Smoke_check']=healthcaredata['Smoke_check'].map({'formerly smoked':'Earlier',\n",
    "                                                                'never smoked': 'Nonsmoker',\n",
    "                                                                'smoker':'smoker',\n",
    "                                                                 'unknown':'not known'})"
   ]
  },
  {
   "cell_type": "code",
   "execution_count": 43,
   "metadata": {},
   "outputs": [
    {
     "data": {
      "text/plain": [
       "Nonsmoker    1892\n",
       "Earlier       885\n",
       "Name: Smoke_check, dtype: int64"
      ]
     },
     "execution_count": 43,
     "metadata": {},
     "output_type": "execute_result"
    }
   ],
   "source": [
    "healthcaredata['Smoke_check'].value_counts()"
   ]
  },
  {
   "cell_type": "code",
   "execution_count": 44,
   "metadata": {},
   "outputs": [],
   "source": [
    "#Recode the Angina variables\n",
    "healthcaredata['Angina']=healthcaredata['Angina'].map({'0':'No',\n",
    "                                                      '1':'Yes'})"
   ]
  },
  {
   "cell_type": "code",
   "execution_count": 45,
   "metadata": {},
   "outputs": [
    {
     "data": {
      "text/plain": [
       "Series([], Name: Angina, dtype: int64)"
      ]
     },
     "execution_count": 45,
     "metadata": {},
     "output_type": "execute_result"
    }
   ],
   "source": [
    "healthcaredata['Angina'].value_counts()"
   ]
  },
  {
   "cell_type": "code",
   "execution_count": 46,
   "metadata": {},
   "outputs": [],
   "source": [
    "# Inductive content the Healthcare and Heart datasets, resetting the index and utilizing the source identification as a key.\n",
    "compositeData = pd.concat([heartdata, healthcaredata], axis = 0, keys = ['heart', 'healthcaredata'],\n",
    "                          names = ['source']).reset_index(level = 'source')"
   ]
  },
  {
   "cell_type": "code",
   "execution_count": 47,
   "metadata": {},
   "outputs": [
    {
     "data": {
      "text/html": [
       "<div>\n",
       "<style scoped>\n",
       "    .dataframe tbody tr th:only-of-type {\n",
       "        vertical-align: middle;\n",
       "    }\n",
       "\n",
       "    .dataframe tbody tr th {\n",
       "        vertical-align: top;\n",
       "    }\n",
       "\n",
       "    .dataframe thead th {\n",
       "        text-align: right;\n",
       "    }\n",
       "</style>\n",
       "<table border=\"1\" class=\"dataframe\">\n",
       "  <thead>\n",
       "    <tr style=\"text-align: right;\">\n",
       "      <th></th>\n",
       "      <th>source</th>\n",
       "      <th>Age</th>\n",
       "      <th>Gender</th>\n",
       "      <th>ChestPain</th>\n",
       "      <th>BP</th>\n",
       "      <th>Cholesterol</th>\n",
       "      <th>BloodSugarLevel</th>\n",
       "      <th>ECG</th>\n",
       "      <th>HeartRate</th>\n",
       "      <th>Angina</th>\n",
       "      <th>...</th>\n",
       "      <th>id</th>\n",
       "      <th>gender</th>\n",
       "      <th>age</th>\n",
       "      <th>heart_disease</th>\n",
       "      <th>Marital_status</th>\n",
       "      <th>Employment</th>\n",
       "      <th>Locality</th>\n",
       "      <th>bmi</th>\n",
       "      <th>Smoke_check</th>\n",
       "      <th>stroke</th>\n",
       "    </tr>\n",
       "  </thead>\n",
       "  <tbody>\n",
       "    <tr>\n",
       "      <th>0</th>\n",
       "      <td>heart</td>\n",
       "      <td>40.0</td>\n",
       "      <td>Male</td>\n",
       "      <td>ATA</td>\n",
       "      <td>140.0</td>\n",
       "      <td>289.0</td>\n",
       "      <td>NaN</td>\n",
       "      <td>Excellent</td>\n",
       "      <td>NaN</td>\n",
       "      <td>No</td>\n",
       "      <td>...</td>\n",
       "      <td>NaN</td>\n",
       "      <td>NaN</td>\n",
       "      <td>NaN</td>\n",
       "      <td>NaN</td>\n",
       "      <td>NaN</td>\n",
       "      <td>NaN</td>\n",
       "      <td>NaN</td>\n",
       "      <td>NaN</td>\n",
       "      <td>NaN</td>\n",
       "      <td>NaN</td>\n",
       "    </tr>\n",
       "    <tr>\n",
       "      <th>1</th>\n",
       "      <td>heart</td>\n",
       "      <td>49.0</td>\n",
       "      <td>Female</td>\n",
       "      <td>NAP</td>\n",
       "      <td>160.0</td>\n",
       "      <td>180.0</td>\n",
       "      <td>NaN</td>\n",
       "      <td>Excellent</td>\n",
       "      <td>NaN</td>\n",
       "      <td>No</td>\n",
       "      <td>...</td>\n",
       "      <td>NaN</td>\n",
       "      <td>NaN</td>\n",
       "      <td>NaN</td>\n",
       "      <td>NaN</td>\n",
       "      <td>NaN</td>\n",
       "      <td>NaN</td>\n",
       "      <td>NaN</td>\n",
       "      <td>NaN</td>\n",
       "      <td>NaN</td>\n",
       "      <td>NaN</td>\n",
       "    </tr>\n",
       "    <tr>\n",
       "      <th>2</th>\n",
       "      <td>heart</td>\n",
       "      <td>37.0</td>\n",
       "      <td>Male</td>\n",
       "      <td>ATA</td>\n",
       "      <td>130.0</td>\n",
       "      <td>283.0</td>\n",
       "      <td>NaN</td>\n",
       "      <td>Fair</td>\n",
       "      <td>NaN</td>\n",
       "      <td>No</td>\n",
       "      <td>...</td>\n",
       "      <td>NaN</td>\n",
       "      <td>NaN</td>\n",
       "      <td>NaN</td>\n",
       "      <td>NaN</td>\n",
       "      <td>NaN</td>\n",
       "      <td>NaN</td>\n",
       "      <td>NaN</td>\n",
       "      <td>NaN</td>\n",
       "      <td>NaN</td>\n",
       "      <td>NaN</td>\n",
       "    </tr>\n",
       "    <tr>\n",
       "      <th>3</th>\n",
       "      <td>heart</td>\n",
       "      <td>48.0</td>\n",
       "      <td>Female</td>\n",
       "      <td>ASY</td>\n",
       "      <td>138.0</td>\n",
       "      <td>214.0</td>\n",
       "      <td>NaN</td>\n",
       "      <td>Excellent</td>\n",
       "      <td>NaN</td>\n",
       "      <td>Yes</td>\n",
       "      <td>...</td>\n",
       "      <td>NaN</td>\n",
       "      <td>NaN</td>\n",
       "      <td>NaN</td>\n",
       "      <td>NaN</td>\n",
       "      <td>NaN</td>\n",
       "      <td>NaN</td>\n",
       "      <td>NaN</td>\n",
       "      <td>NaN</td>\n",
       "      <td>NaN</td>\n",
       "      <td>NaN</td>\n",
       "    </tr>\n",
       "    <tr>\n",
       "      <th>4</th>\n",
       "      <td>heart</td>\n",
       "      <td>54.0</td>\n",
       "      <td>Male</td>\n",
       "      <td>NAP</td>\n",
       "      <td>150.0</td>\n",
       "      <td>195.0</td>\n",
       "      <td>NaN</td>\n",
       "      <td>Excellent</td>\n",
       "      <td>NaN</td>\n",
       "      <td>No</td>\n",
       "      <td>...</td>\n",
       "      <td>NaN</td>\n",
       "      <td>NaN</td>\n",
       "      <td>NaN</td>\n",
       "      <td>NaN</td>\n",
       "      <td>NaN</td>\n",
       "      <td>NaN</td>\n",
       "      <td>NaN</td>\n",
       "      <td>NaN</td>\n",
       "      <td>NaN</td>\n",
       "      <td>NaN</td>\n",
       "    </tr>\n",
       "    <tr>\n",
       "      <th>...</th>\n",
       "      <td>...</td>\n",
       "      <td>...</td>\n",
       "      <td>...</td>\n",
       "      <td>...</td>\n",
       "      <td>...</td>\n",
       "      <td>...</td>\n",
       "      <td>...</td>\n",
       "      <td>...</td>\n",
       "      <td>...</td>\n",
       "      <td>...</td>\n",
       "      <td>...</td>\n",
       "      <td>...</td>\n",
       "      <td>...</td>\n",
       "      <td>...</td>\n",
       "      <td>...</td>\n",
       "      <td>...</td>\n",
       "      <td>...</td>\n",
       "      <td>...</td>\n",
       "      <td>...</td>\n",
       "      <td>...</td>\n",
       "      <td>...</td>\n",
       "    </tr>\n",
       "    <tr>\n",
       "      <th>5105</th>\n",
       "      <td>healthcaredata</td>\n",
       "      <td>NaN</td>\n",
       "      <td>NaN</td>\n",
       "      <td>NaN</td>\n",
       "      <td>NaN</td>\n",
       "      <td>NaN</td>\n",
       "      <td>NaN</td>\n",
       "      <td>NaN</td>\n",
       "      <td>NaN</td>\n",
       "      <td>NaN</td>\n",
       "      <td>...</td>\n",
       "      <td>18234.0</td>\n",
       "      <td>Female</td>\n",
       "      <td>80.0</td>\n",
       "      <td>0.0</td>\n",
       "      <td>Married</td>\n",
       "      <td>Priv</td>\n",
       "      <td>Town</td>\n",
       "      <td>NaN</td>\n",
       "      <td>Nonsmoker</td>\n",
       "      <td>0.0</td>\n",
       "    </tr>\n",
       "    <tr>\n",
       "      <th>5106</th>\n",
       "      <td>healthcaredata</td>\n",
       "      <td>NaN</td>\n",
       "      <td>NaN</td>\n",
       "      <td>NaN</td>\n",
       "      <td>NaN</td>\n",
       "      <td>NaN</td>\n",
       "      <td>NaN</td>\n",
       "      <td>NaN</td>\n",
       "      <td>NaN</td>\n",
       "      <td>NaN</td>\n",
       "      <td>...</td>\n",
       "      <td>44873.0</td>\n",
       "      <td>Female</td>\n",
       "      <td>81.0</td>\n",
       "      <td>0.0</td>\n",
       "      <td>Married</td>\n",
       "      <td>Own_business</td>\n",
       "      <td>Town</td>\n",
       "      <td>40.0</td>\n",
       "      <td>Nonsmoker</td>\n",
       "      <td>0.0</td>\n",
       "    </tr>\n",
       "    <tr>\n",
       "      <th>5107</th>\n",
       "      <td>healthcaredata</td>\n",
       "      <td>NaN</td>\n",
       "      <td>NaN</td>\n",
       "      <td>NaN</td>\n",
       "      <td>NaN</td>\n",
       "      <td>NaN</td>\n",
       "      <td>NaN</td>\n",
       "      <td>NaN</td>\n",
       "      <td>NaN</td>\n",
       "      <td>NaN</td>\n",
       "      <td>...</td>\n",
       "      <td>19723.0</td>\n",
       "      <td>Female</td>\n",
       "      <td>35.0</td>\n",
       "      <td>0.0</td>\n",
       "      <td>Married</td>\n",
       "      <td>Own_business</td>\n",
       "      <td>Countryside</td>\n",
       "      <td>30.6</td>\n",
       "      <td>Nonsmoker</td>\n",
       "      <td>0.0</td>\n",
       "    </tr>\n",
       "    <tr>\n",
       "      <th>5108</th>\n",
       "      <td>healthcaredata</td>\n",
       "      <td>NaN</td>\n",
       "      <td>NaN</td>\n",
       "      <td>NaN</td>\n",
       "      <td>NaN</td>\n",
       "      <td>NaN</td>\n",
       "      <td>NaN</td>\n",
       "      <td>NaN</td>\n",
       "      <td>NaN</td>\n",
       "      <td>NaN</td>\n",
       "      <td>...</td>\n",
       "      <td>37544.0</td>\n",
       "      <td>Male</td>\n",
       "      <td>51.0</td>\n",
       "      <td>0.0</td>\n",
       "      <td>Married</td>\n",
       "      <td>Priv</td>\n",
       "      <td>Countryside</td>\n",
       "      <td>25.6</td>\n",
       "      <td>Earlier</td>\n",
       "      <td>0.0</td>\n",
       "    </tr>\n",
       "    <tr>\n",
       "      <th>5109</th>\n",
       "      <td>healthcaredata</td>\n",
       "      <td>NaN</td>\n",
       "      <td>NaN</td>\n",
       "      <td>NaN</td>\n",
       "      <td>NaN</td>\n",
       "      <td>NaN</td>\n",
       "      <td>NaN</td>\n",
       "      <td>NaN</td>\n",
       "      <td>NaN</td>\n",
       "      <td>NaN</td>\n",
       "      <td>...</td>\n",
       "      <td>44679.0</td>\n",
       "      <td>Female</td>\n",
       "      <td>44.0</td>\n",
       "      <td>0.0</td>\n",
       "      <td>Married</td>\n",
       "      <td>Govt</td>\n",
       "      <td>Town</td>\n",
       "      <td>26.2</td>\n",
       "      <td>NaN</td>\n",
       "      <td>0.0</td>\n",
       "    </tr>\n",
       "  </tbody>\n",
       "</table>\n",
       "<p>6028 rows × 23 columns</p>\n",
       "</div>"
      ],
      "text/plain": [
       "              source   Age  Gender ChestPain     BP  Cholesterol  \\\n",
       "0              heart  40.0    Male       ATA  140.0        289.0   \n",
       "1              heart  49.0  Female       NAP  160.0        180.0   \n",
       "2              heart  37.0    Male       ATA  130.0        283.0   \n",
       "3              heart  48.0  Female       ASY  138.0        214.0   \n",
       "4              heart  54.0    Male       NAP  150.0        195.0   \n",
       "...              ...   ...     ...       ...    ...          ...   \n",
       "5105  healthcaredata   NaN     NaN       NaN    NaN          NaN   \n",
       "5106  healthcaredata   NaN     NaN       NaN    NaN          NaN   \n",
       "5107  healthcaredata   NaN     NaN       NaN    NaN          NaN   \n",
       "5108  healthcaredata   NaN     NaN       NaN    NaN          NaN   \n",
       "5109  healthcaredata   NaN     NaN       NaN    NaN          NaN   \n",
       "\n",
       "     BloodSugarLevel        ECG HeartRate Angina  ...       id  gender   age  \\\n",
       "0                NaN  Excellent       NaN     No  ...      NaN     NaN   NaN   \n",
       "1                NaN  Excellent       NaN     No  ...      NaN     NaN   NaN   \n",
       "2                NaN       Fair       NaN     No  ...      NaN     NaN   NaN   \n",
       "3                NaN  Excellent       NaN    Yes  ...      NaN     NaN   NaN   \n",
       "4                NaN  Excellent       NaN     No  ...      NaN     NaN   NaN   \n",
       "...              ...        ...       ...    ...  ...      ...     ...   ...   \n",
       "5105             NaN        NaN       NaN    NaN  ...  18234.0  Female  80.0   \n",
       "5106             NaN        NaN       NaN    NaN  ...  44873.0  Female  81.0   \n",
       "5107             NaN        NaN       NaN    NaN  ...  19723.0  Female  35.0   \n",
       "5108             NaN        NaN       NaN    NaN  ...  37544.0    Male  51.0   \n",
       "5109             NaN        NaN       NaN    NaN  ...  44679.0  Female  44.0   \n",
       "\n",
       "      heart_disease Marital_status    Employment     Locality   bmi  \\\n",
       "0               NaN            NaN           NaN          NaN   NaN   \n",
       "1               NaN            NaN           NaN          NaN   NaN   \n",
       "2               NaN            NaN           NaN          NaN   NaN   \n",
       "3               NaN            NaN           NaN          NaN   NaN   \n",
       "4               NaN            NaN           NaN          NaN   NaN   \n",
       "...             ...            ...           ...          ...   ...   \n",
       "5105            0.0        Married          Priv         Town   NaN   \n",
       "5106            0.0        Married  Own_business         Town  40.0   \n",
       "5107            0.0        Married  Own_business  Countryside  30.6   \n",
       "5108            0.0        Married          Priv  Countryside  25.6   \n",
       "5109            0.0        Married          Govt         Town  26.2   \n",
       "\n",
       "     Smoke_check stroke  \n",
       "0            NaN    NaN  \n",
       "1            NaN    NaN  \n",
       "2            NaN    NaN  \n",
       "3            NaN    NaN  \n",
       "4            NaN    NaN  \n",
       "...          ...    ...  \n",
       "5105   Nonsmoker    0.0  \n",
       "5106   Nonsmoker    0.0  \n",
       "5107   Nonsmoker    0.0  \n",
       "5108     Earlier    0.0  \n",
       "5109         NaN    0.0  \n",
       "\n",
       "[6028 rows x 23 columns]"
      ]
     },
     "execution_count": 47,
     "metadata": {},
     "output_type": "execute_result"
    }
   ],
   "source": [
    "# Check the composite data set\n",
    "compositeData"
   ]
  },
  {
   "cell_type": "code",
   "execution_count": 48,
   "metadata": {},
   "outputs": [],
   "source": [
    "# Ensure age is numeric\n",
    "compositeData['Age'] = compositeData['Age'].astype(float)"
   ]
  },
  {
   "cell_type": "code",
   "execution_count": 49,
   "metadata": {},
   "outputs": [
    {
     "data": {
      "text/plain": [
       "source              object\n",
       "Age                float64\n",
       "Gender              object\n",
       "ChestPain           object\n",
       "BP                 float64\n",
       "Cholesterol        float64\n",
       "BloodSugarLevel     object\n",
       "ECG                 object\n",
       "HeartRate           object\n",
       "Angina              object\n",
       "Oldpeak            float64\n",
       "ST_Slope            object\n",
       "Stroke              object\n",
       "id                 float64\n",
       "gender              object\n",
       "age                float64\n",
       "heart_disease      float64\n",
       "Marital_status      object\n",
       "Employment          object\n",
       "Locality            object\n",
       "bmi                float64\n",
       "Smoke_check         object\n",
       "stroke             float64\n",
       "dtype: object"
      ]
     },
     "execution_count": 49,
     "metadata": {},
     "output_type": "execute_result"
    }
   ],
   "source": [
    "compositeData.dtypes"
   ]
  },
  {
   "cell_type": "markdown",
   "metadata": {},
   "source": [
    "## Summary of Data Cleaning"
   ]
  },
  {
   "cell_type": "markdown",
   "metadata": {},
   "source": [
    "The compositeData is only able to compare the two genders in two different data sets. In addition to the variables previously mentioned, it also includes a variable for the data source (heart vs. healthcare). Since it was difficult to synchronize the data for resting blood pressure and cholesterol, no analysis will be carried out for this project. The proper recoding of other variables has been done."
   ]
  },
  {
   "cell_type": "markdown",
   "metadata": {},
   "source": [
    "## Analysing the Data"
   ]
  },
  {
   "cell_type": "markdown",
   "metadata": {},
   "source": [
    "* Employment\n",
    "* Angina\n",
    "* Stroke\n",
    "* BloodPressure\n",
    "* HeartRate"
   ]
  },
  {
   "cell_type": "markdown",
   "metadata": {},
   "source": [
    "To make it easier to compare the distributions, all cross-tabulated data is standardized by data source. These merge will be kept in a dictionary with the key representing the relevant variable and the value representing the merge data frame."
   ]
  },
  {
   "cell_type": "code",
   "execution_count": 50,
   "metadata": {},
   "outputs": [],
   "source": [
    "# import pandas\n",
    "import pandas as pd"
   ]
  },
  {
   "cell_type": "code",
   "execution_count": 53,
   "metadata": {},
   "outputs": [],
   "source": [
    "import numpy as np\n"
   ]
  },
  {
   "cell_type": "code",
   "execution_count": 57,
   "metadata": {},
   "outputs": [],
   "source": [
    "# Examine the mean age by source (HealthCare vs Heart) and BloodSugarLevel\n",
    "agePivot = pd.pivot_table(data = compositeData, values = 'Age', columns = ['source', 'Employment'], \n",
    "                             aggfunc = np.mean)"
   ]
  },
  {
   "cell_type": "code",
   "execution_count": 58,
   "metadata": {},
   "outputs": [
    {
     "data": {
      "text/html": [
       "<div>\n",
       "<style scoped>\n",
       "    .dataframe tbody tr th:only-of-type {\n",
       "        vertical-align: middle;\n",
       "    }\n",
       "\n",
       "    .dataframe tbody tr th {\n",
       "        vertical-align: top;\n",
       "    }\n",
       "\n",
       "    .dataframe thead tr th {\n",
       "        text-align: left;\n",
       "    }\n",
       "</style>\n",
       "<table border=\"1\" class=\"dataframe\">\n",
       "  <thead>\n",
       "  </thead>\n",
       "  <tbody>\n",
       "    <tr>\n",
       "      <th>Age</th>\n",
       "    </tr>\n",
       "  </tbody>\n",
       "</table>\n",
       "</div>"
      ],
      "text/plain": [
       "Empty DataFrame\n",
       "Columns: []\n",
       "Index: [Age]"
      ]
     },
     "execution_count": 58,
     "metadata": {},
     "output_type": "execute_result"
    }
   ],
   "source": [
    "agePivot"
   ]
  },
  {
   "cell_type": "code",
   "execution_count": 76,
   "metadata": {},
   "outputs": [],
   "source": [
    "# Make a list of the interesting factors to study.\n",
    "variablesList = ['ChestPain','Age', 'BloodSugarLevel','gender', 'Angina', 'Stroke', 'Locality', 'Employment', 'Marital_status','Gender']\n",
    "\n",
    "#Make a blank dictionary for the merge tables.\n",
    "CrossTablesDict = {}"
   ]
  },
  {
   "cell_type": "code",
   "execution_count": 77,
   "metadata": {},
   "outputs": [],
   "source": [
    "# Make crosstabulated tables, then add them to a list of tables.\n",
    "for variable in variablesList:\n",
    "    # Give the table a name based on the variable's name\n",
    "     tableName = '{}Cross'.format(variable) \n",
    "     # Construct cross tabulations to analyse data by source for specific variables and to aggregate it for analysis.\n",
    "     table = pd.crosstab(compositeData[variable], compositeData['source'], normalize = 'columns')\n",
    "     CrossTablesDict[tableName] = table"
   ]
  },
  {
   "cell_type": "code",
   "execution_count": 78,
   "metadata": {},
   "outputs": [
    {
     "data": {
      "text/plain": [
       "{'ChestPainCross': source        heart\n",
       " ChestPain          \n",
       " ASY        0.540305\n",
       " ATA        0.188453\n",
       " NAP        0.221133\n",
       " TA         0.050109, 'AgeCross': source     heart\n",
       " Age             \n",
       " 28.0    0.001089\n",
       " 29.0    0.003268\n",
       " 30.0    0.001089\n",
       " 31.0    0.002179\n",
       " 32.0    0.005447\n",
       " 33.0    0.002179\n",
       " 34.0    0.007625\n",
       " 35.0    0.011983\n",
       " 36.0    0.006536\n",
       " 37.0    0.011983\n",
       " 38.0    0.017429\n",
       " 39.0    0.016340\n",
       " 40.0    0.014161\n",
       " 41.0    0.026144\n",
       " 42.0    0.019608\n",
       " 43.0    0.026144\n",
       " 44.0    0.020697\n",
       " 45.0    0.019608\n",
       " 46.0    0.026144\n",
       " 47.0    0.020697\n",
       " 48.0    0.033769\n",
       " 49.0    0.022876\n",
       " 50.0    0.027233\n",
       " 51.0    0.038126\n",
       " 52.0    0.039216\n",
       " 53.0    0.035948\n",
       " 54.0    0.055556\n",
       " 55.0    0.044662\n",
       " 56.0    0.041394\n",
       " 57.0    0.041394\n",
       " 58.0    0.045752\n",
       " 59.0    0.038126\n",
       " 60.0    0.034858\n",
       " 61.0    0.033769\n",
       " 62.0    0.038126\n",
       " 63.0    0.032680\n",
       " 64.0    0.023965\n",
       " 65.0    0.022876\n",
       " 66.0    0.014161\n",
       " 67.0    0.016340\n",
       " 68.0    0.010893\n",
       " 69.0    0.014161\n",
       " 70.0    0.007625\n",
       " 71.0    0.005447\n",
       " 72.0    0.004357\n",
       " 73.0    0.001089\n",
       " 74.0    0.007625\n",
       " 75.0    0.003268\n",
       " 76.0    0.002179\n",
       " 77.0    0.002179, 'BloodSugarLevelCross': Empty DataFrame\n",
       " Columns: []\n",
       " Index: [], 'genderCross': source  healthcaredata\n",
       " gender                \n",
       " Female        0.585910\n",
       " Male          0.413894\n",
       " Other         0.000196, 'AnginaCross': source     heart\n",
       " Angina          \n",
       " No      0.595861\n",
       " Yes     0.404139, 'StrokeCross': Empty DataFrame\n",
       " Columns: []\n",
       " Index: [], 'LocalityCross': source       healthcaredata\n",
       " Locality                   \n",
       " Countryside        0.491977\n",
       " Town               0.508023, 'EmploymentCross': source        healthcaredata\n",
       " Employment                  \n",
       " Govt                0.149284\n",
       " Own_business        0.186094\n",
       " Priv                0.664622, 'Marital_statusCross': source          healthcaredata\n",
       " Marital_status                \n",
       " Married               0.656164\n",
       " Unmarried             0.343836, 'GenderCross': source    heart\n",
       " Gender         \n",
       " Female  0.21024\n",
       " Male    0.78976}"
      ]
     },
     "execution_count": 78,
     "metadata": {},
     "output_type": "execute_result"
    }
   ],
   "source": [
    "# Verify the creation in the dictionary.\n",
    "CrossTablesDict"
   ]
  },
  {
   "cell_type": "code",
   "execution_count": 79,
   "metadata": {},
   "outputs": [
    {
     "name": "stdout",
     "output_type": "stream",
     "text": [
      "ChestPainCross\n",
      "source        heart\n",
      "ChestPain          \n",
      "ASY        0.540305\n",
      "ATA        0.188453\n",
      "NAP        0.221133\n",
      "TA         0.050109\n",
      "\n",
      "AgeCross\n",
      "source     heart\n",
      "Age             \n",
      "28.0    0.001089\n",
      "29.0    0.003268\n",
      "30.0    0.001089\n",
      "31.0    0.002179\n",
      "32.0    0.005447\n",
      "33.0    0.002179\n",
      "34.0    0.007625\n",
      "35.0    0.011983\n",
      "36.0    0.006536\n",
      "37.0    0.011983\n",
      "38.0    0.017429\n",
      "39.0    0.016340\n",
      "40.0    0.014161\n",
      "41.0    0.026144\n",
      "42.0    0.019608\n",
      "43.0    0.026144\n",
      "44.0    0.020697\n",
      "45.0    0.019608\n",
      "46.0    0.026144\n",
      "47.0    0.020697\n",
      "48.0    0.033769\n",
      "49.0    0.022876\n",
      "50.0    0.027233\n",
      "51.0    0.038126\n",
      "52.0    0.039216\n",
      "53.0    0.035948\n",
      "54.0    0.055556\n",
      "55.0    0.044662\n",
      "56.0    0.041394\n",
      "57.0    0.041394\n",
      "58.0    0.045752\n",
      "59.0    0.038126\n",
      "60.0    0.034858\n",
      "61.0    0.033769\n",
      "62.0    0.038126\n",
      "63.0    0.032680\n",
      "64.0    0.023965\n",
      "65.0    0.022876\n",
      "66.0    0.014161\n",
      "67.0    0.016340\n",
      "68.0    0.010893\n",
      "69.0    0.014161\n",
      "70.0    0.007625\n",
      "71.0    0.005447\n",
      "72.0    0.004357\n",
      "73.0    0.001089\n",
      "74.0    0.007625\n",
      "75.0    0.003268\n",
      "76.0    0.002179\n",
      "77.0    0.002179\n",
      "\n",
      "BloodSugarLevelCross\n",
      "Empty DataFrame\n",
      "Columns: []\n",
      "Index: []\n",
      "\n",
      "genderCross\n",
      "source  healthcaredata\n",
      "gender                \n",
      "Female        0.585910\n",
      "Male          0.413894\n",
      "Other         0.000196\n",
      "\n",
      "AnginaCross\n",
      "source     heart\n",
      "Angina          \n",
      "No      0.595861\n",
      "Yes     0.404139\n",
      "\n",
      "StrokeCross\n",
      "Empty DataFrame\n",
      "Columns: []\n",
      "Index: []\n",
      "\n",
      "LocalityCross\n",
      "source       healthcaredata\n",
      "Locality                   \n",
      "Countryside        0.491977\n",
      "Town               0.508023\n",
      "\n",
      "EmploymentCross\n",
      "source        healthcaredata\n",
      "Employment                  \n",
      "Govt                0.149284\n",
      "Own_business        0.186094\n",
      "Priv                0.664622\n",
      "\n",
      "Marital_statusCross\n",
      "source          healthcaredata\n",
      "Marital_status                \n",
      "Married               0.656164\n",
      "Unmarried             0.343836\n",
      "\n",
      "GenderCross\n",
      "source    heart\n",
      "Gender         \n",
      "Female  0.21024\n",
      "Male    0.78976\n",
      "\n"
     ]
    }
   ],
   "source": [
    "# Before plotting, properly print the findings for analysis.\n",
    "for key in CrossTablesDict:\n",
    "    print(key)\n",
    "    print(CrossTablesDict[key])\n",
    "    print()"
   ]
  },
  {
   "cell_type": "markdown",
   "metadata": {},
   "source": [
    "## Data Analysis Summary"
   ]
  },
  {
   "cell_type": "markdown",
   "metadata": {},
   "source": [
    "According to the Healthcare dataset, women are more likely than men to get a stroke. In contrast, the Heart dataset shows that men are more likely than women to get heart disease. The groups' ages, however, are all comparable."
   ]
  },
  {
   "cell_type": "markdown",
   "metadata": {},
   "source": [
    "Data was compiled into cross tabulations for the aforementioned factors. Most of the distributions seem to vary, which may be seen more clearly by graphing."
   ]
  },
  {
   "cell_type": "markdown",
   "metadata": {},
   "source": [
    "##  Discussion"
   ]
  },
  {
   "cell_type": "markdown",
   "metadata": {},
   "source": [
    "We'll plot the above-created aggregated data to allow for detailed evaluation."
   ]
  },
  {
   "cell_type": "markdown",
   "metadata": {},
   "source": [
    "Below Graph is plotted against the Cholesterol and the Age factors so as to examine the amount to cholesterol affects the body according to the Age to highly respond to the heart diseases."
   ]
  },
  {
   "cell_type": "code",
   "execution_count": 93,
   "metadata": {},
   "outputs": [
    {
     "data": {
      "image/png": "[encoded data removed]",
      "text/plain": [
       "<Figure size 432x288 with 1 Axes>"
      ]
     },
     "metadata": {
      "needs_background": "light"
     },
     "output_type": "display_data"
    }
   ],
   "source": [
    "# Plot the mean age by source and Cholesterol\n",
    "import matplotlib.pyplot as plt\n",
    "import pandas as pd\n",
    "   \n",
    "data = {'Age': ['37', '40', '48', '49', '54'],\n",
    "        'Cholesterol': [283.0,289.0,214.0,180.0,195.0]\n",
    "       }\n",
    "df = pd.DataFrame(data)\n",
    "\n",
    "colors = ['green','blue','purple','brown','teal']\n",
    "plt.bar(df['Age'], df['Cholesterol'], color=colors)\n",
    "plt.title('Age Vs Cholesterol', fontsize=14)\n",
    "plt.xlabel('Age', fontsize=14)\n",
    "plt.ylabel('Cholesterol', fontsize=14)\n",
    "plt.grid(True)\n",
    "plt.show()"
   ]
  },
  {
   "cell_type": "markdown",
   "metadata": {},
   "source": [
    "## Project Summary"
   ]
  },
  {
   "cell_type": "markdown",
   "metadata": {},
   "source": [
    "Variations between the HealthCare dataset and the Heart data are illustrated in representations of the merge data. This is to be expected given the various model for analyzing and analytical approaches. Here are some observations about each component."
   ]
  },
  {
   "cell_type": "markdown",
   "metadata": {},
   "source": [
    "#### AGE"
   ]
  },
  {
   "cell_type": "markdown",
   "metadata": {},
   "source": [
    "Between the two data sets, the mean age appears to be identical. To ascertain similarity, it would be necessary to look at the prevalence, range, and sample variance. However, as the range of ages for all the data is 37–54, the same mean is anticipated."
   ]
  },
  {
   "cell_type": "markdown",
   "metadata": {},
   "source": [
    "#### BloodSugarLevel"
   ]
  },
  {
   "cell_type": "markdown",
   "metadata": {},
   "source": [
    "Compared to Heart Disease Prediction with Shapley participants, more HealthCare data participants report a BloodSugarLevel diagnosis. This may be somewhat attributable to the comparison of the patients between urban and rural locations, which is mostly focused on localities. Due to the possibility that some of the individuals without a new diagnosis of Heart disease may have reported a diagnosis in prior years, combining all the years of data would be necessary for a more accurate comparison."
   ]
  },
  {
   "cell_type": "markdown",
   "metadata": {},
   "source": [
    "#### Angina"
   ]
  },
  {
   "cell_type": "markdown",
   "metadata": {},
   "source": [
    "The overall health distribution is quite uniform. While more people who participate in Heart Disease Prediction with Shapley report better health, more people who participate in HealthCare data tend to report worse health. The Patients in the HealthCare data are chosen based on the age categories as well as the participants' smoking status. Due to the smoking status the participants in the HealthCare Dataset tend to have high risk of stroke."
   ]
  },
  {
   "cell_type": "markdown",
   "metadata": {},
   "source": [
    "#### Stroke"
   ]
  },
  {
   "cell_type": "markdown",
   "metadata": {},
   "source": [
    "According to the two data sets choosen, higher rate of stroke is examined in the HealthCare Dataset where as, the Heart Disease Prediction with Shapley doesn't show higher rate of stroke among the participants. The participants choosen in the HealthCare Dataset where females are more effected to the heart diseases rather than the Heart Disease Prediction with Shapley. The participants choosen in the Heart Disease Prediction with Shapley where males are more effected to heart diseases rather than the HealthCare Dataset."
   ]
  },
  {
   "cell_type": "markdown",
   "metadata": {},
   "source": [
    "#### Cholesterol"
   ]
  },
  {
   "cell_type": "markdown",
   "metadata": {},
   "source": [
    "Participants in the Heart Disease Prediction with Shapley are tested to heart diseases along with the cholesterol so the participants in the Heart Disease Prediction with Shapley dataset are examined by the fluctuations in the cholesterol levels in the body."
   ]
  },
  {
   "cell_type": "markdown",
   "metadata": {},
   "source": [
    "### My Findings"
   ]
  },
  {
   "cell_type": "markdown",
   "metadata": {},
   "source": [
    "From the above calculations I have examined that the Participants at the younger age has a more risk of having the heart disease and also which leads to the stroke. More over the Males the highly in danger to have strokes compared to the Females."
   ]
  },
  {
   "cell_type": "markdown",
   "metadata": {},
   "source": [
    "As the World Health Organization is a continous process of anylasing the diseases and disorders from this study I came to know that it is representing that the Females are slightly more effected than the males to the heart diseases. The Heart Disease Prediction with Shapley has a high rate of male effect prediction to heart diseases than the Females. "
   ]
  },
  {
   "cell_type": "markdown",
   "metadata": {},
   "source": [
    "After the examination of the World Health Organization dataset the smoking_status of the participants based on the locaties the Urban participants have more risk of the stroke as they are more involved in the smoking compared to the rural people."
   ]
  },
  {
   "cell_type": "markdown",
   "metadata": {},
   "source": [
    "## Reference"
   ]
  },
  {
   "cell_type": "markdown",
   "metadata": {},
   "source": [
    "This dataset was created by combining different datasets already available independently but not combined before. In this dataset, 5 heart datasets are combined over 11 common features which makes it the largest heart disease dataset available so far for research purposes. The five datasets used for its curation are:\n",
    "\n",
    "Cleveland: 303 observations\n",
    "Hungarian: 294 observations\n",
    "Switzerland: 123 observations\n",
    "Long Beach VA: 200 observations\n",
    "Stalog (Heart) Data Set: 270 observations\n",
    "Total: 1190 observations\n",
    "Duplicated: 272 observations\n",
    "\n",
    "Final dataset: 918 observations\n",
    "\n",
    "Every dataset used can be found under the Index of heart disease datasets from UCI Machine Learning Repository on the following link: https://archive.ics.uci.edu/ml/machine-learning-databases/heart-disease/\n",
    "\n",
    "Citation\n",
    "fedesoriano. (September 2021). Heart Failure Prediction Dataset. Retrieved [Date Retrieved] from https://www.kaggle.com/fedesoriano/heart-failure-prediction."
   ]
  },
  {
   "cell_type": "markdown",
   "metadata": {},
   "source": [
    "Stroke Prediction Dataset taken from the World Health Organization(WHO) where the source and reference is confidential so the Author mentioned is Mr. FEDESORIANO\n",
    "\n",
    "I have extracted the dataset from the below link:\n",
    "Source:https://www.kaggle.com/datasets/fedesoriano/stroke-prediction-dataset\n"
   ]
  },
  {
   "cell_type": "markdown",
   "metadata": {},
   "source": [
    "#### Github Submission\n",
    "Code adapated from homework assignments."
   ]
  },
  {
   "cell_type": "code",
   "execution_count": 98,
   "metadata": {},
   "outputs": [
    {
     "name": "stdin",
     "output_type": "stream",
     "text": [
      "\n",
      "Are you ready to submit your work?\n",
      "1. Click the Save icon (or do Ctrl-S / Cmd-S)\n",
      "2. Type \"yes\" or \"no\" below\n",
      "3. Press Enter\n",
      "\n",
      " yes\n"
     ]
    },
    {
     "name": "stdout",
     "output_type": "stream",
     "text": [
      "Already up to date.\n",
      "fatal: pathspec 'Final_DeMarco.ipynb' did not match any files\n",
      "On branch main\n",
      "Your branch is up to date with 'origin/main'.\n",
      "\n",
      "Untracked files:\n",
      "\t\u001b[31m../National_Health_Interview_Survey__NHIS__-_National_Cardiovascular_Disease_Surveillance_Data.csv\u001b[m\n",
      "\t\u001b[31m../Untitled1.ipynb\u001b[m\n",
      "\t\u001b[31m../Week06/week06.ipynb\u001b[m\n",
      "\t\u001b[31m./\u001b[m\n",
      "\t\u001b[31m../healthcare-dataset-stroke-data.csv\u001b[m\n",
      "\t\u001b[31m../heart.csv\u001b[m\n",
      "\t\u001b[31m../midterm.ipynb/untitled.txt\u001b[m\n",
      "\t\u001b[31m../week02/week02_in class.ipynb\u001b[m\n",
      "\t\u001b[31m../week03 in_class.ipynb\u001b[m\n",
      "\t\u001b[31m../week04/week04 in_class.ipynb\u001b[m\n",
      "\t\u001b[31m../week09/City-of-St-Louis-COVID-19-Case-Data.csv\u001b[m\n",
      "\t\u001b[31m../week09/indian_liver_patient.csv\u001b[m\n",
      "\t\u001b[31m../week11_earn_back.ipynb\u001b[m\n",
      "\t\u001b[31m../week13/mental-heath-in-tech-2016_20161114.csv.zip\u001b[m\n",
      "\t\u001b[31m../week13/monkeypox.csv\u001b[m\n",
      "\t\u001b[31m../week14/HospitalCosts_Kaggle.csv\u001b[m\n",
      "\t\u001b[31m../week14/cms2014.csv\u001b[m\n",
      "\t\u001b[31m../week14/cms2015.csv\u001b[m\n",
      "\t\u001b[31m../week14/cms2016.csv\u001b[m\n",
      "\t\u001b[31m../week14/npidata.csv\u001b[m\n",
      "\t\u001b[31m../week14/untitled.txt\u001b[m\n",
      "\n",
      "nothing added to commit but untracked files present\n",
      "Everything up-to-date\n"
     ]
    }
   ],
   "source": [
    "a=input('''\n",
    "Are you ready to submit your work?\n",
    "1. Click the Save icon (or do Ctrl-S / Cmd-S)\n",
    "2. Type \"yes\" or \"no\" below\n",
    "3. Press Enter\n",
    "\n",
    "''')\n",
    "\n",
    "if a=='yes':\n",
    "    !git pull\n",
    "    !git add Final_DeMarco.ipynb\n",
    "    !git commit -a -m \"Submitting final project programming assignment\"\n",
    "    !git push\n",
    "else:\n",
    "    print('''\n",
    "    \n",
    "OK. We can wait.\n",
    "''')"
   ]
  },
  {
   "cell_type": "code",
   "execution_count": null,
   "metadata": {},
   "outputs": [],
   "source": []
  }
 ],
 "metadata": {
  "kernelspec": {
   "display_name": "Python 3",
   "language": "python",
   "name": "python3"
  },
  "language_info": {
   "codemirror_mode": {
    "name": "ipython",
    "version": 3
   },
   "file_extension": ".py",
   "mimetype": "text/x-python",
   "name": "python",
   "nbconvert_exporter": "python",
   "pygments_lexer": "ipython3",
   "version": "3.6.7"
  }
 },
 "nbformat": 4,
 "nbformat_minor": 4
}
